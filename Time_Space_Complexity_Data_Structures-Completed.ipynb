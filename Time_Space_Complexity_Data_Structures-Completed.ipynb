{
 "cells": [
  {
   "cell_type": "markdown",
   "metadata": {},
   "source": [
    "# Time/Space Complexity - Intro to Data Structures (User Defined)\n",
    "\n",
    "### Topics to discuss today:\n",
    "\n",
    "<ul>\n",
    "    <li>Time and Space Complexity - What is it/How do we measure it</li>\n",
    "    <li>Asymptotic Analysis</li>\n",
    "    <li><strong>Data Structures</strong></li>\n",
    "    <li>Some of the popular sorting algorithms</li>\n",
    "</ul>\n",
    "\n",
    "### Data Structures to discuss:\n",
    "- Arrays\n",
    "- Stacks\n",
    "- Queues\n",
    "- Linked Lists\n",
    "    - Singly Linked Lists\n",
    "    - Traversing A Linked List\n",
    "    - Finding a node in a linked list\n",
    "    - Adding to a linked list\n",
    "- Binary Search Trees\n",
    "    - Construction\n",
    "    - Traversal\n"
   ]
  },
  {
   "cell_type": "markdown",
   "metadata": {},
   "source": [
    "## Time and Space Complexity\n",
    "\n",
    "#### What is it?\n",
    "\n",
    "Time and space complexity is the measure of how much time a given action(function) will take to solve a problem. In the same fashion, we determine how much a given data structure will need in terms of memory allocation. A problem can have multiple solutions and finding the optimal solution for the problem needs to be analyzed in time and space.\n",
    "\n",
    "#### How do we measure Time and Space Complexity?\n",
    "\n",
    "In order to measure time and space complexity we use Asymptotic analysis. The reason for this is because we need a way to measure different algorithms (functions) based on the size of their inputs in a mathmatical way. For example, we could have a function that is computed as f(n) and another that is g(n^2). All things around the function staying constant, the only thing that changes is the size of the input. Below is the chart that shows the different Asymptotic analysis formats. "
   ]
  },
  {
   "cell_type": "markdown",
   "metadata": {},
   "source": [
    "<table style=\"text-align:center;\" class=\"table table-bordered\">\n",
    "<tbody><tr>\n",
    "<td>constant</td>\n",
    "<td>−</td>\n",
    "<td>Ο(1)</td>\n",
    "</tr>\n",
    "<tr>\n",
    "<td>logarithmic</td>\n",
    "<td>−</td>\n",
    "<td>Ο(log n)</td>\n",
    "</tr>\n",
    "<tr>\n",
    "<td>linear</td>\n",
    "<td>−</td>\n",
    "<td>Ο(n)</td>\n",
    "</tr>\n",
    "<tr>\n",
    "<td>Linear Logarithmic</td>\n",
    "<td>−</td>\n",
    "<td>Ο(n log n)</td>\n",
    "</tr>\n",
    "<tr>\n",
    "<td>quadratic</td>\n",
    "<td>−</td>\n",
    "<td>Ο(n<sup>2</sup>)</td>\n",
    "</tr>\n",
    "<tr>\n",
    "<td>cubic</td>\n",
    "<td>−</td>\n",
    "<td>Ο(n<sup>3</sup>)</td>\n",
    "</tr>\n",
    "<tr>\n",
    "<td>polynomial</td>\n",
    "<td>−</td>\n",
    "<td>n<sup>Ο(1)</sup></td>\n",
    "</tr>\n",
    "<tr>\n",
    "<td>exponential</td>\n",
    "<td>−</td>\n",
    "<td>2<sup>Ο(n)</sup></td>\n",
    "</tr>\n",
    "</tbody></table>"
   ]
  },
  {
   "cell_type": "markdown",
   "metadata": {},
   "source": [
    "## Arrays"
   ]
  },
  {
   "cell_type": "markdown",
   "metadata": {},
   "source": [
    "In python we benefit from the dynamic array which means the block of memory will expand as needed for the given input to the array. In traditional arrays (depending on the type of operating system) we will usually store our inputs in 4 or 8 consecutive blocks of memory. Below is a diagram of how that looks under the hood:\n",
    "\n",
    "<img src=\"http://www.mathcs.emory.edu/~cheung/Courses/170/Syllabus/09/FIGS/array02x.gif\" style=\"height:250px; width:350px;\">"
   ]
  },
  {
   "cell_type": "markdown",
   "metadata": {},
   "source": [
    "## Which in python looks like this:"
   ]
  },
  {
   "cell_type": "code",
   "execution_count": 1,
   "metadata": {},
   "outputs": [
    {
     "name": "stdout",
     "output_type": "stream",
     "text": [
      "[23, 4, 6, 15, 5, 7, 23]\n"
     ]
    }
   ],
   "source": [
    "array = [23,4,6,15,5,7,23]\n",
    "print(array)"
   ]
  },
  {
   "cell_type": "markdown",
   "metadata": {},
   "source": [
    "### Let's take a look at some of the time and space analysis of arrays"
   ]
  },
  {
   "cell_type": "code",
   "execution_count": 2,
   "metadata": {},
   "outputs": [
    {
     "name": "stdout",
     "output_type": "stream",
     "text": [
      "23\n",
      "4\n",
      "6\n",
      "15\n",
      "5\n",
      "7\n",
      "23\n"
     ]
    }
   ],
   "source": [
    "# Indexing an Array(list)\n",
    "indexing = array[1] # Constant Time and Space - O(1)\n",
    "\n",
    "# Searching through an array(list)\n",
    "# Linear Time - O(n) Constant Space - O(1)\n",
    "for i in array:\n",
    "    print(i)\n",
    "    \n",
    "# Copying an array\n",
    "# Linear Time - O(n) AND Linear Space - O(n)\n",
    "copying = array[:]\n",
    "\n",
    "# Setting an index in an array(list)\n",
    "# Constant Time AND Constant Space - O(1)\n",
    "array[2] = 3"
   ]
  },
  {
   "cell_type": "markdown",
   "metadata": {},
   "source": [
    "## Stacks and Queues (Review)\n",
    "\n",
    "** Stacks ** as the name suggests is a data structure that allows for data to follow the Last In First Out priciple(LIFO). Think of a stack of pancakes for example. To get the first pancake you would  start with the top and go down.\n",
    "\n",
    "##### Searching through a stack will be Linear Time O(n) - Constant Space O(1)\n",
    "##### Selecting the last item will be done in Constant Time O(1) - Constant Space O(1)\n",
    "##### Adding to the stack should take Constant Time O(1) - Constant Space O(1)\n",
    "\n",
    "** Queues ** are similar but in this case follow the First In First Out principle(FIFO). Think of this as a line in a black friday sale. The first person camped out for the big screen tv is the first to get it.\n",
    "\n",
    "##### Searching through a queue will be Linear Time O(n) - Constant Space O(1)\n",
    "##### Selecting the first item will be done in Constant Time O(1) - Constant Space O(1)\n",
    "##### Adding to the queue should take Constant Time O(1) - Constant Space O(1)"
   ]
  },
  {
   "cell_type": "code",
   "execution_count": 3,
   "metadata": {},
   "outputs": [
    {
     "name": "stdout",
     "output_type": "stream",
     "text": [
      "deque([10, 20, 30, 40, 50])\n",
      "deque([10, 20, 30, 40, 50])\n",
      "50\n",
      "deque([10, 20, 30, 40])\n",
      "40\n",
      "deque([10, 20, 30])\n",
      "30\n",
      "deque([10, 20])\n",
      "20\n",
      "deque([10])\n",
      "10\n"
     ]
    }
   ],
   "source": [
    "from collections import deque\n",
    "\n",
    "\n",
    "stack = deque([10, 20, 30])\n",
    "\n",
    "stack.append(40)\n",
    "stack.append(50)\n",
    "\n",
    "print(stack)\n",
    "\n",
    "# last_item = stack.pop()\n",
    "# print(las)\n",
    "\n",
    "while stack:\n",
    "    print(stack)\n",
    "    print(stack.pop())\n",
    "    \n",
    "    "
   ]
  },
  {
   "cell_type": "code",
   "execution_count": 3,
   "metadata": {},
   "outputs": [
    {
     "name": "stdout",
     "output_type": "stream",
     "text": [
      "10\n",
      "20\n",
      "30\n",
      "Bob\n",
      "Mary\n",
      "Misty\n"
     ]
    }
   ],
   "source": [
    "stack = []\n",
    "\n",
    "stack.append(10)\n",
    "stack.append(20)\n",
    "stack.append(30)\n",
    "\n",
    "# last_item = stack.pop()\n",
    "# print(last_item)\n",
    "\n",
    "# Searching a Stack - Linear Time O(n) - Constant Space O(1)\n",
    "for i in stack:\n",
    "    print(i)\n",
    "    \n",
    "queue = []\n",
    "queue.append('Bob')\n",
    "queue.append('Mary')\n",
    "queue.append('Misty')\n",
    "\n",
    "# first_item = queue.pop(0)\n",
    "# print(first_item)\n",
    "\n",
    "for i in queue:\n",
    "    print(i)"
   ]
  },
  {
   "cell_type": "code",
   "execution_count": null,
   "metadata": {},
   "outputs": [],
   "source": []
  },
  {
   "cell_type": "markdown",
   "metadata": {},
   "source": [
    "## Linked List (Data Structure)\n",
    "\n",
    "A linked list is created by using the node class. We create a Node object and create another class to use this node object. We pass the appropriate values thorugh the node object to point the to the next data elements.\n",
    "\n",
    "There are some advantages and disadvantages with this data structure. **Advantages** Linked Lists can save memory because they can be flexibile with memory management which saves memory. **Disadvantages** Finding or adding to the list requires traversing the entire list."
   ]
  },
  {
   "cell_type": "code",
   "execution_count": 4,
   "metadata": {},
   "outputs": [
    {
     "name": "stdout",
     "output_type": "stream",
     "text": [
      "Mon\n",
      "Tues\n",
      "Wed\n",
      "None\n"
     ]
    }
   ],
   "source": [
    "class LinkedListNode():\n",
    "    def __init__(self,value):\n",
    "        self.value = value\n",
    "        self.next = None\n",
    "        \n",
    "    def traverseList(self):\n",
    "        node = self\n",
    "        while node != None:\n",
    "            print(node.value)\n",
    "            node = node.next\n",
    "            \n",
    "node1 = LinkedListNode('Mon')\n",
    "node2 = LinkedListNode('Tues')\n",
    "node3 = LinkedListNode('Wed')\n",
    "\n",
    "node1.next = node2\n",
    "node2.next = node3\n",
    "\n",
    "print(node1.traverseList())"
   ]
  },
  {
   "cell_type": "code",
   "execution_count": 5,
   "metadata": {},
   "outputs": [
    {
     "name": "stdout",
     "output_type": "stream",
     "text": [
      "Mon\n",
      "Tues\n",
      "Wed\n",
      "Thurs\n"
     ]
    }
   ],
   "source": [
    "# A Complete Implementation of a linkedlist\n",
    "\n",
    "# 2 components to this solution -- A Node Class and the LinkedList class\n",
    "\n",
    "class Node():\n",
    "    def __init__(self,value):\n",
    "        self.value = value\n",
    "        self.next = None\n",
    "        \n",
    "class LinkedList():\n",
    "    def __init__(self):\n",
    "        self.head = None\n",
    "        \n",
    "    def pushOn(self,new_value):\n",
    "        new_node = Node(new_value)\n",
    "        new_node.next = self.head\n",
    "        self.head = new_node\n",
    "    def insertAfter(self,prev_node,new_value):\n",
    "        # Check if the previous node even exists\n",
    "        if prev_node is None:\n",
    "            print(\"The given previous node must not be empty!\")\n",
    "            return\n",
    "        # IF the Node is not empty then create a new node\n",
    "        new_node = Node(new_value)\n",
    "        \n",
    "        # Update the previous node's next pointer to point to the new value\n",
    "        new_node.next = prev_node.next\n",
    "        \n",
    "        # Update the previous node to point to the new node's value\n",
    "        prev_node.next = new_node\n",
    "    \n",
    "    # This method will append a new node to the END of the linkedlist\n",
    "    def append(self,new_value):\n",
    "        # Create New Node with a new value\n",
    "        new_node = Node(new_value)\n",
    "        \n",
    "        #Check if the LinkedList is empty\n",
    "        #And if it is, make THIS new node the head node(beginning of the list)\n",
    "        if self.head is None:\n",
    "            self.head = new_node\n",
    "            \n",
    "        #BUT if the list is NOT empty - traverse to the end\n",
    "        # and add the NEW value to the end of the list\n",
    "        \n",
    "        last = self.head\n",
    "        \n",
    "        #While last.next is not None -> continue to loop until we find a None value\n",
    "        while(last.next):\n",
    "            last = last.next\n",
    "        # Change current last node value to point to the NEW value\n",
    "        last.next = new_node\n",
    "        \n",
    "    def traverse(self):\n",
    "        temp = self.head\n",
    "        # while temp is NOT None -> keep looping through the links until you reach a None Value\n",
    "        while(temp):\n",
    "            print(temp.value)\n",
    "            temp = temp.next\n",
    "            \n",
    "weekdays_links = LinkedList()\n",
    "\n",
    "# Insert a new day into the list\n",
    "weekdays_links.pushOn('Mon')\n",
    "weekdays_links.append('Tues')\n",
    "weekdays_links.append('Thurs')\n",
    "weekdays_links.insertAfter(weekdays_links.head.next,\"Wed\")\n",
    "weekdays_links.traverse()"
   ]
  },
  {
   "cell_type": "markdown",
   "metadata": {},
   "source": [
    "## Binary Search Trees"
   ]
  },
  {
   "cell_type": "code",
   "execution_count": 6,
   "metadata": {},
   "outputs": [
    {
     "name": "stdout",
     "output_type": "stream",
     "text": [
      "50\n",
      "False\n",
      "False\n"
     ]
    }
   ],
   "source": [
    "class BST():\n",
    "    def __init__(self,value):\n",
    "        self.value = value # Current Value\n",
    "        self.left = None\n",
    "        self.right = None\n",
    "        \n",
    "    def insert(self,value):\n",
    "        if value < self.value:\n",
    "            if self.left is None:\n",
    "                self.left = BST(value)\n",
    "            else:\n",
    "                self.left.insert(value)\n",
    "        else:\n",
    "            if self.right is None:\n",
    "                self.right = BST(value)\n",
    "            else:\n",
    "                self.right.insert(value)\n",
    "        return self\n",
    "    \n",
    "    def contains(self,value):\n",
    "        \"\"\"\n",
    "            This method accepts an int for its value\n",
    "            The value parameter is what we are looking for inside of the BST structure\n",
    "        \"\"\"\n",
    "        if value < self.value: # if passed value is less than current value\n",
    "            if self.left is None:\n",
    "                return False\n",
    "            else:\n",
    "                return self.left.contains(value)\n",
    "        elif value > self.value:\n",
    "            if self.right is None:\n",
    "                return False\n",
    "            else:\n",
    "                return self.right.contains(value)\n",
    "        else:\n",
    "            return True\n",
    "        \n",
    "    def getMinValue(self):\n",
    "        if self.left is None:\n",
    "            return self.value\n",
    "        else:\n",
    "            return self.left.getMinValue()\n",
    "    \n",
    "    def getMaxValue(self):\n",
    "        if self.right is None:\n",
    "            return self.value\n",
    "        else:\n",
    "            return self.right.getMaxValue()\n",
    "        \n",
    "    def remove(self,value,parent=None):\n",
    "        if value < self.value:\n",
    "            if self.left is not None:\n",
    "                self.left.remove(value,self)\n",
    "        elif value > self.value:\n",
    "            if self.right is not None:\n",
    "                self.right.remove(value,self)\n",
    "        else:\n",
    "            if self.left is not None and self.right is not None:\n",
    "                self.value = self.right.getMinValue()\n",
    "                self.right.remove(self.value,self)\n",
    "            elif parent is None:\n",
    "                if self.left is not None:\n",
    "                    self.value = self.left.value\n",
    "                    self.right = self.left.right\n",
    "                    self.left = self.left.left\n",
    "                elif self.right is not None:\n",
    "                    self.value = self.right.value\n",
    "                    self.left = self.right.left\n",
    "                    self.right = self.right.right\n",
    "                else:\n",
    "                    self.value = None\n",
    "            elif parent.left == self:\n",
    "                parent.left = self.left if self.left is not None else self.right\n",
    "            elif parent.right == self:\n",
    "                parent.right = self.left if self.left is not None else self.right\n",
    "        return self\n",
    "    \n",
    "bst_example = BST(39)\n",
    "bst_example.insert(40)\n",
    "bst_example.insert(50)\n",
    "\n",
    "print(bst_example.getMaxValue())\n",
    "print(bst_example.contains(44))\n",
    "bst_example.remove(40)\n",
    "print(bst_example.contains(40))"
   ]
  },
  {
   "cell_type": "markdown",
   "metadata": {},
   "source": [
    "# Homework"
   ]
  },
  {
   "cell_type": "markdown",
   "metadata": {},
   "source": [
    "#### Problem 1: Linked Lists\n",
    "\n",
    "Using the above examples as a guide, create your own interpretation of the a Linked List class. You can not use the code above exactly, but again it can be used as a guide. This problem requires you to think about how a linked list works and create one using your own logic.\n",
    "\n",
    "*Remember* A Linked List is a list of Nodes that point to the next node in the chain. The first Node starts out as Empty(None) and each node after points to the next.\n",
    "\n",
    "Your Linked List should have a traverse method and have the ability to add a new node"
   ]
  },
  {
   "cell_type": "code",
   "execution_count": null,
   "metadata": {},
   "outputs": [],
   "source": [
    "class Node():\n",
    "    def __init__(self,value):\n",
    "        self.value = value\n",
    "        self.next = None\n",
    "        \n",
    "class linkedlist():\n",
    "    def __init_(self):\n",
    "        self.head = None\n",
    "        \n",
    "    def pushon(self, new_value):\n",
    "        new_node = Node(new_value)\n",
    "        new_node.next = self.head\n",
    "        self.head = new_node\n",
    "\n",
    "#     def append(self,new_value):        \n",
    "#         new_node = Node(new_value)        \n",
    "#         if self.head is None:\n",
    "#             self.head = new_node        \n",
    "#         else:\n",
    "#             last = self.head        \n",
    "#         while(last.next):\n",
    "#             last = last.next\n",
    "#             last.next = new_node"
   ]
  },
  {
   "cell_type": "markdown",
   "metadata": {},
   "source": [
    "#### Problem 2: Binary Search Tree\n",
    "\n",
    "Using the above examples as a guide, create your own interpretation of the a Binary Search Tree class. You can not use the code above exactly, but again it can be used as a guide. This problem requires you to think about how a Binary Search Tree works and create one using your own logic.\n",
    "\n",
    "*Remember* Binary Search Trees start with a head node and each node to the left of that will be smaller, each node to the right of it will be greater. The far left node should be the lowest number(if one exists) that is available. The far right node (if one exists) should be the greatest number"
   ]
  },
  {
   "cell_type": "code",
   "execution_count": 25,
   "metadata": {},
   "outputs": [
    {
     "name": "stdout",
     "output_type": "stream",
     "text": [
      "Empty init on right 41\n",
      "Empty init on left 22\n",
      "Empty init on right 55\n",
      "Something was in init on right 55\n",
      "Empty init on left 3\n",
      "Something was in init on left 3\n",
      "<__main__.Bts object at 0x7fe0c221a370>\n"
     ]
    }
   ],
   "source": [
    "class Bts():\n",
    "    def __init__(self,value):\n",
    "        self.value = value # Current Value\n",
    "        self.left = None\n",
    "        self.right = None\n",
    "        \n",
    "    def insert(self, value):\n",
    "        if value < self.value:\n",
    "            if self.left is None:\n",
    "                self.left = Bts(value)\n",
    "                print(f'Empty init on left {value}')\n",
    "            else:\n",
    "                self.left.insert(value)\n",
    "                print(f'Something was in init on left {value}')\n",
    "        else:\n",
    "            if self.right is None:\n",
    "                self.right = Bts(value)\n",
    "                print(f'Empty init on right {value}')\n",
    "            else:\n",
    "                self.right.insert(value)\n",
    "                print(f'Something was in init on right {value}')\n",
    "        return self\n",
    "        \n",
    "Bts_example = Bts(39)\n",
    "Bts_example.insert(41)\n",
    "Bts_example.insert(22)\n",
    "Bts_example.insert(55)\n",
    "Bts_example.insert(3)\n",
    "\n"
   ]
  },
  {
   "cell_type": "code",
   "execution_count": 48,
   "metadata": {},
   "outputs": [
    {
     "name": "stdout",
     "output_type": "stream",
     "text": [
      "Empty init on left 41\n",
      "Something was in init on louie 19\n",
      "Empty init on left 19\n",
      "Something was in init on louie 55\n",
      "Empty init on rack 55\n",
      "Something was in init on louie 2\n",
      "Something was in init on louie 2\n",
      "Empty init on left 2\n",
      "Empty init on rack 66\n",
      "Something was in init on louie 7\n",
      "Something was in init on louie 7\n",
      "Something was in init on louie 7\n",
      "Empty init on rack 7\n",
      "55 has beeeeen removed\n"
     ]
    },
    {
     "ename": "NameError",
     "evalue": "name 'WWtree_test' is not defined",
     "output_type": "error",
     "traceback": [
      "\u001b[0;31m---------------------------------------------------------------------------\u001b[0m",
      "\u001b[0;31mNameError\u001b[0m                                 Traceback (most recent call last)",
      "\u001b[0;32m/var/folders/ww/4ctxwd9d24g7_2m5hm2t2r9c0000gn/T/ipykernel_215/1421159611.py\u001b[0m in \u001b[0;36m<module>\u001b[0;34m\u001b[0m\n\u001b[1;32m     89\u001b[0m \u001b[0mWWTree_test\u001b[0m\u001b[0;34m.\u001b[0m\u001b[0minsert\u001b[0m\u001b[0;34m(\u001b[0m\u001b[0;36m7\u001b[0m\u001b[0;34m)\u001b[0m\u001b[0;34m\u001b[0m\u001b[0;34m\u001b[0m\u001b[0m\n\u001b[1;32m     90\u001b[0m \u001b[0mWWTree_test\u001b[0m\u001b[0;34m.\u001b[0m\u001b[0mremove\u001b[0m\u001b[0;34m(\u001b[0m\u001b[0;36m55\u001b[0m\u001b[0;34m)\u001b[0m\u001b[0;34m\u001b[0m\u001b[0;34m\u001b[0m\u001b[0m\n\u001b[0;32m---> 91\u001b[0;31m \u001b[0mWWtree_test\u001b[0m\u001b[0;34m\u001b[0m\u001b[0;34m\u001b[0m\u001b[0m\n\u001b[0m",
      "\u001b[0;31mNameError\u001b[0m: name 'WWtree_test' is not defined"
     ]
    }
   ],
   "source": [
    "class WWTree():\n",
    "\n",
    "    def __init__(self, value):\n",
    "        self.value = value\n",
    "        self.louie = None\n",
    "        self.rack = None\n",
    "\n",
    "# Insert Method goes to init to find if louie or rack are empty\n",
    "    def insert(self, value):\n",
    "        if value < self.value:\n",
    "            if self.louie == None:\n",
    "                print(f'Empty init on left {value}')\n",
    "                self.louie = WWTree(value)\n",
    "            else:\n",
    "                print(f'Something was in init on louie {value}')\n",
    "                self.louie.insert(value)     \n",
    "        else:\n",
    "            if self.rack == None:\n",
    "                print(f'Empty init on rack {value}')\n",
    "                self.rack = WWTree(value)\n",
    "            else:\n",
    "                print(f'Something was in init on rack {value}')\n",
    "                self.rack.insert(value)\n",
    "        return self\n",
    "\n",
    "\n",
    "# Contains Method where it looks to see whats in\n",
    "    def contain(self, value):\n",
    "        if value < self.value: \n",
    "            if self.louie is None:\n",
    "                return False\n",
    "            else:\n",
    "                return self.louie.contains(value)\n",
    "        elif value > self.value:\n",
    "            if self.rack is None:\n",
    "                return False\n",
    "            else:\n",
    "                return self.rack.contains(value)\n",
    "        else:\n",
    "            return True\n",
    "        \n",
    "    def Min(self):\n",
    "        if self.louie is None:\n",
    "            return self.value\n",
    "        else:\n",
    "            return self.louie.getMinValue()\n",
    "    \n",
    "    def Max(self):\n",
    "        if self.rack is None:\n",
    "            return self.value\n",
    "        else:\n",
    "            return self.rack.getMaxValue()\n",
    "   \n",
    "\n",
    "    # Remove got really confusing to type out try again\n",
    "\n",
    "    def remove(self,value,parent=None):\n",
    "        if value < self.value:\n",
    "            if self.louie is not None:\n",
    "                self.louie.remove(value,self)\n",
    "                print(f\"{value} you entered is removed if it's less than louie it looked for you number and found it\")\n",
    "        elif value > self.value:\n",
    "            if self.rack is not None:\n",
    "                self.rack.remove(value,self)\n",
    "                print(f\"{value} you entered is removed if it's more than rack it looked and found it\")\n",
    "        else:\n",
    "            if self.louie is not None and self.rack is not None:\n",
    "#  \n",
    "\n",
    "                self.value = self.rack.getMinValue()\n",
    "# this switches the value that's under self.value to the right \n",
    "                self.rack.remove(self.value,self)\n",
    "                print(f\"{self.rack} {self.value} becasue what you enterd is higher than self.value  \")\n",
    "            elif parent is None:\n",
    "                if self.louie is not None:\n",
    "                    self.value = self.louie.value\n",
    "                    self.rack = self.louie.right\n",
    "                    self.lelouieft = self.louie.left\n",
    "                elif self.rack is not None:\n",
    "                    self.value = self.rack.value\n",
    "                    self.louie = self.rack.left\n",
    "                    self.rack = self.rack.rack\n",
    "                else:\n",
    "                    self.value = None\n",
    "            elif parent.louie == self:\n",
    "                parent.louie = self.louie if self.louie is not None else self.rack\n",
    "            elif parent.rack == self:\n",
    "                parent.rack = self.louie if self.louie is not None else self.rack\n",
    "        return self\n",
    "                \n",
    "WWTree_test = WWTree(57)\n",
    "WWTree_test.insert(41)\n",
    "WWTree_test.insert(19)\n",
    "WWTree_test.insert(55)\n",
    "WWTree_test.insert(2)\n",
    "WWTree_test.insert(66)\n",
    "WWTree_test.insert(7)\n",
    "WWTree_test.remove(55)\n",
    "WWtree_test"
   ]
  },
  {
   "cell_type": "code",
   "execution_count": null,
   "metadata": {},
   "outputs": [],
   "source": []
  }
 ],
 "metadata": {
  "kernelspec": {
   "display_name": "Python 3 (ipykernel)",
   "language": "python",
   "name": "python3"
  },
  "language_info": {
   "codemirror_mode": {
    "name": "ipython",
    "version": 3
   },
   "file_extension": ".py",
   "mimetype": "text/x-python",
   "name": "python",
   "nbconvert_exporter": "python",
   "pygments_lexer": "ipython3",
   "version": "3.9.7"
  }
 },
 "nbformat": 4,
 "nbformat_minor": 2
}
